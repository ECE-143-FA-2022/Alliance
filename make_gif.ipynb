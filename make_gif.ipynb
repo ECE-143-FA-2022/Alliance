{
 "cells": [
  {
   "cell_type": "code",
   "execution_count": 1,
   "id": "5b68fb80",
   "metadata": {},
   "outputs": [],
   "source": [
    "import os\n",
    "import imageio\n",
    "\n",
    "\n",
    "def make_gif(folder_path,gif_path):\n",
    "    \"\"\"\n",
    "    Imageio function that allows a user to make a gif out of a folder of images\n",
    "    :param folder_path: path to a folder of images\n",
    "    :type folder_path: str\n",
    "    :param gif_path: output path for the final rendered gif\n",
    "    :type gif_path: str\n",
    "    :returns: None\n",
    "    \"\"\"\n",
    "\n",
    "    # Initialize a list of images\n",
    "    images = []\n",
    "    # loop through all items in the input folder\n",
    "    for image in sorted(os.listdir(folder_path)):\n",
    "        # skipping any non-image items\n",
    "        if image.endswith('.png') or image.endswith('.jpeg'):\n",
    "            # add image to image list\n",
    "            full_image_path = os.path.join(folder_path,image)\n",
    "            images.append(imageio.imread(full_image_path))\n",
    "    # render gif\n",
    "    imageio.mimsave(gif_path,images,duration=0.35)\n"
   ]
  },
  {
   "cell_type": "code",
   "execution_count": 3,
   "id": "6c216430",
   "metadata": {},
   "outputs": [],
   "source": [
    "path = \"./img/\"                                                \n",
    "gif_file = './img/alliances2.gif'\n",
    "make_gif(path, gif_file)\n"
   ]
  },
  {
   "cell_type": "code",
   "execution_count": null,
   "id": "6f7bfd59",
   "metadata": {},
   "outputs": [],
   "source": []
  }
 ],
 "metadata": {
  "kernelspec": {
   "display_name": "Python 3 (ipykernel)",
   "language": "python",
   "name": "python3"
  },
  "language_info": {
   "codemirror_mode": {
    "name": "ipython",
    "version": 3
   },
   "file_extension": ".py",
   "mimetype": "text/x-python",
   "name": "python",
   "nbconvert_exporter": "python",
   "pygments_lexer": "ipython3",
   "version": "3.8.5"
  }
 },
 "nbformat": 4,
 "nbformat_minor": 5
}
