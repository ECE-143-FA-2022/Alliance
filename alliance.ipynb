{
 "cells": [
  {
   "cell_type": "markdown",
   "metadata": {},
   "source": [
    "## Initialization"
   ]
  },
  {
   "cell_type": "markdown",
   "metadata": {},
   "source": [
    "There are several ways to draw background maps with Python. For a complete review, visit the [map section](https://www.python-graph-gallery.com/map) of the gallery"
   ]
  },
  {
   "cell_type": "markdown",
   "metadata": {},
   "source": [
    "This example uses the `Basemap` library. Let's initialize a map of the world as explained in [this post](https://www.python-graph-gallery.com/281-basic-map-with-basemap)."
   ]
  },
  {
   "cell_type": "code",
   "execution_count": 1,
   "metadata": {
    "scrolled": true
   },
   "outputs": [],
   "source": [
    "# libraries\n",
    "from mpl_toolkits.basemap import Basemap\n",
    "import numpy as np\n",
    "import matplotlib.pyplot as plt\n",
    "\n",
    "# Set the plot size for this notebook:\n",
    "plt.rcParams[\"figure.figsize\"]=18,10"
   ]
  },
  {
   "cell_type": "markdown",
   "metadata": {},
   "source": [
    "## 🔗  Great Circle"
   ]
  },
  {
   "cell_type": "markdown",
   "metadata": {},
   "source": [
    "> A great circle is the intersection of the sphere and a plane that passes through the center point of the sphere. [Wikipedia](https://en.wikipedia.org/wiki/Great_circle)"
   ]
  },
  {
   "cell_type": "markdown",
   "metadata": {},
   "source": [
    "Basically, a great circle shows the shortest path between 2 locations, knowing that our planet is a sphere. This path is not a straight line but an arc, which gives a much better appearance to the map.\n",
    "\n",
    "Let's add a connection between London and New York. This is quite straightforward with `Basemap` thanks to the `drawgreatcircle()` function."
   ]
  },
  {
   "cell_type": "markdown",
   "metadata": {},
   "source": [
    "## Alliance Map Class"
   ]
  },
  {
   "cell_type": "markdown",
   "metadata": {},
   "source": [
    "Create a map class that is a subclass of `Basemap`. Add some helper functions."
   ]
  },
  {
   "cell_type": "code",
   "execution_count": 2,
   "metadata": {},
   "outputs": [],
   "source": [
    "import pandas as pd\n",
    "\n",
    "def is_float(x):\n",
    "    try:\n",
    "        float(x)\n",
    "        return True\n",
    "    except ValueError:\n",
    "        return False\n",
    "\n",
    "class MyBasemap(Basemap):\n",
    "    def __init__(self, *args, **kwargs):\n",
    "        super().__init__()\n",
    "        # load country attributes such as longitude, latitude, and BGN names\n",
    "        self.countries_data = pd.read_csv(\"./version4.1_csv/cow.txt\", sep=\";\", skiprows=28)\n",
    "        self.countries_on_map = set()\n",
    "\n",
    "    def printcountries(self, d: int=3, max_len: int=12, fontsize: int=5, min_size: float=1e5):\n",
    "        \"\"\"\n",
    "        Label countries with their name on the map. Only label those with a land area \n",
    "        larger than `min_size` and print the first `max_len` char of the country names.\n",
    "        \"\"\"\n",
    "        data = self.countries_data\n",
    "        data = data[(data.latitude > self.llcrnrlat+d) & (data.latitude < self.urcrnrlat-d) & (data.longitude > self.llcrnrlon+d) & (data.longitude < self.urcrnrlon-d)]\n",
    "        for ix, country in data.iterrows():\n",
    "            if is_float(country.land_total) and float(country.land_total) >= min_size:\n",
    "                self.countries_on_map.add(country.BGN_proper.lower())\n",
    "                pos = self(country.longitude, country.latitude)\n",
    "                plt.text(*pos, s=country.BGN_proper[:max_len], fontsize=fontsize)\n",
    "                plt.plot([pos[0]], [pos[1]], marker=\"o\", markersize=3, markeredgecolor=\"blue\", markerfacecolor=\"blue\")\n",
    "\n",
    "    def get_country_row(self, country):\n",
    "        \"\"\"\n",
    "        Query the attributes of `country`\n",
    "        \"\"\"\n",
    "        ct = country.lower()\n",
    "        if \"united states of america\".find(ct) >= 0:\n",
    "            ct = \"united states\"\n",
    "        found = False\n",
    "        for country_name in self.countries_on_map:\n",
    "            if country_name.find(ct) >= 0 or ct.find(country_name) >= 0:\n",
    "                found = True\n",
    "                break\n",
    "        if not found:\n",
    "            return None\n",
    "        row = self.countries_data.loc[self.countries_data.BGN_name.apply(lambda x: x.lower().find(ct) >= 0 or ct.find(x.lower()) >= 0)]\n",
    "        if len(row) > 0:\n",
    "#             if len(row) > 1:\n",
    "#                 print(ct, row.BGN_name.tolist())\n",
    "            return row.iloc[0]\n",
    "\n",
    "    def connect_countries(self, c0: str, c1: str):\n",
    "        \"\"\"\n",
    "        Draw a great circle between the two countries `c0` and `c1` if \n",
    "        they are labelled on the map and their positions (latitude, longitude) can be found.\n",
    "        \"\"\"\n",
    "        r0 = self.get_country_row(c0)\n",
    "        r1 = self.get_country_row(c1)\n",
    "        if r0 is None or r1 is None:\n",
    "            return\n",
    "        coord0 = self(r0.longitude.item(), r0.latitude.item())\n",
    "        coord1 = self(r1.longitude.item(), r1.latitude.item())\n",
    "        coord = coord0 + coord1\n",
    "        self.drawgreatcircle(*coord, linewidth=1, color='#69b3a2')"
   ]
  },
  {
   "cell_type": "code",
   "execution_count": 3,
   "metadata": {},
   "outputs": [],
   "source": [
    "# alliance = pd.read_csv(\"./version4.1_csv/alliance_v4.1_by_dyad_yearly.csv\")\n",
    "alliance = pd.read_csv(\"./version4.1_csv/alliance_v4.1_by_dyad.csv\")"
   ]
  },
  {
   "cell_type": "code",
   "execution_count": 4,
   "metadata": {},
   "outputs": [],
   "source": [
    "def get_year_map(m, year, key=\"dyad_st_year\"):\n",
    "    \"\"\"\n",
    "    Draw a great circle on the Basemap `m` between the \n",
    "    countries that established alliance in `year`.\n",
    "    \"\"\"\n",
    "    year_data = alliance.loc[alliance[key] == year]\n",
    "    for it, (idx, row) in enumerate(year_data.iterrows()):\n",
    "#         print(row.state_name1, row.state_name2)\n",
    "        m.connect_countries(row.state_name1, row.state_name2)"
   ]
  },
  {
   "cell_type": "code",
   "execution_count": 5,
   "metadata": {},
   "outputs": [],
   "source": [
    "def plot_alliance(year):\n",
    "    # Background map\n",
    "    plt.figure()\n",
    "    m=MyBasemap(llcrnrlon=-179, llcrnrlat=-60, urcrnrlon=179, urcrnrlat=70,  projection='merc')\n",
    "    m.drawmapboundary(fill_color='white', linewidth=0)\n",
    "    m.drawcoastlines(linewidth=0.1)\n",
    "    m.drawcountries(linewidth=0.2)\n",
    "    m.fillcontinents(color='#f2f2f2', alpha=0.7)\n",
    "    m.drawcoastlines(linewidth=0.1, color=\"white\")\n",
    "\n",
    "    # Loop on every pair of cities to add the connection\n",
    "    # for startIndex, startRow in df.iterrows():\n",
    "    #     for endIndex in range(startIndex, len(df.index)):\n",
    "    #         endRow = df.iloc[endIndex]\n",
    "    #         m.drawgreatcircle(startRow.lon, startRow.lat, endRow.lon, endRow.lat, linewidth=1, color='#69b3a2')\n",
    "\n",
    "    # Add city names\n",
    "    # for i, row in df.iterrows():\n",
    "    #     plt.annotate(row.city, xy=m(row.lon+3, row.lat), verticalalignment='center')\n",
    "\n",
    "    m.printcountries(d=1, max_len=16)\n",
    "    # m.connect_countries(\"United States\", \"Canada\")\n",
    "    # m.connect_countries('United States', 'Dominican Republic')\n",
    "    get_year_map(m, year)\n",
    "    plt.title(f\"New alliances established in {year}\")\n",
    "    plt.tight_layout()\n",
    "    plt.savefig(f\"./img/{year}.png\")\n",
    "    plt.close('all')"
   ]
  },
  {
   "cell_type": "code",
   "execution_count": 6,
   "metadata": {},
   "outputs": [],
   "source": [
    "# for year in range(1816, 2013):\n",
    "#     plot_alliance(year)\n",
    "plot_alliance(1962)"
   ]
  },
  {
   "cell_type": "code",
   "execution_count": null,
   "metadata": {},
   "outputs": [],
   "source": []
  }
 ],
 "metadata": {
  "chartType": "connection",
  "description": "A <a href='https://www.python-graph-gallery.com/connection-map'>connection map</a> shows links between locations on a map. This post explains how to use <code>python</code> and the <code>basemap</code> library to show those links with great circles.",
  "family": "map",
  "kernelspec": {
   "display_name": "Python 3 (ipykernel)",
   "language": "python",
   "name": "python3"
  },
  "keywords": "python, chart, plot, seaborn, matplotlib, basemap, connection, links, great circles",
  "language_info": {
   "codemirror_mode": {
    "name": "ipython",
    "version": 3
   },
   "file_extension": ".py",
   "mimetype": "text/x-python",
   "name": "python",
   "nbconvert_exporter": "python",
   "pygments_lexer": "ipython3",
   "version": "3.8.5"
  },
  "seoDescription": "How to build a connection map with Python and Basemap library.",
  "slug": "300-draw-a-connection-line",
  "title": "Connection map with Python and Basemap"
 },
 "nbformat": 4,
 "nbformat_minor": 4
}
