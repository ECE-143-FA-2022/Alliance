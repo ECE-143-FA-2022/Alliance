{
 "cells": [
  {
   "cell_type": "markdown",
   "metadata": {},
   "source": [
    "## Initialization"
   ]
  },
  {
   "cell_type": "markdown",
   "metadata": {},
   "source": [
    "There are several ways to draw background maps with Python. For a complete review, visit the [map section](https://www.python-graph-gallery.com/map) of the gallery"
   ]
  },
  {
   "cell_type": "markdown",
   "metadata": {},
   "source": [
    "This example uses the `Basemap` library. Let's initialize a map of the world as explained in [this post](https://www.python-graph-gallery.com/281-basic-map-with-basemap)."
   ]
  },
  {
   "cell_type": "code",
   "execution_count": 1,
   "metadata": {
    "scrolled": true
   },
   "outputs": [
    {
     "name": "stderr",
     "output_type": "stream",
     "text": [
      "C:\\ProgramData\\Miniconda3\\lib\\site-packages\\thefuzz\\fuzz.py:11: UserWarning: Using slow pure-python SequenceMatcher. Install python-Levenshtein to remove this warning\n",
      "  warnings.warn('Using slow pure-python SequenceMatcher. Install python-Levenshtein to remove this warning')\n"
     ]
    }
   ],
   "source": [
    "# libraries\n",
    "import re\n",
    "import numpy as np\n",
    "import matplotlib.pyplot as plt\n",
    "import pandas as pd\n",
    "\n",
    "from mpl_toolkits.basemap import Basemap\n",
    "from thefuzz import fuzz\n",
    "\n",
    "# Set the plot size for this notebook:\n",
    "plt.rcParams[\"figure.figsize\"]=18,10"
   ]
  },
  {
   "cell_type": "code",
   "execution_count": 2,
   "metadata": {},
   "outputs": [],
   "source": [
    "# alliance = pd.read_csv(\"./version4.1_csv/alliance_v4.1_by_dyad_yearly.csv\")\n",
    "alliance = pd.read_csv(\"./version4.1_csv/alliance_v4.1_by_dyad.csv\")"
   ]
  },
  {
   "cell_type": "markdown",
   "metadata": {},
   "source": [
    "## Helper functions"
   ]
  },
  {
   "cell_type": "code",
   "execution_count": 3,
   "metadata": {},
   "outputs": [],
   "source": [
    "def is_float(x: str):\n",
    "    \"\"\"\n",
    "    Determine if the string `x` can be converted to float\n",
    "    \"\"\"\n",
    "    try:\n",
    "        float(x)\n",
    "        return True\n",
    "    except ValueError:\n",
    "        return False\n",
    "\n",
    "def has_char(x: str):\n",
    "    \"\"\"\n",
    "    Check if string `x` contains any alphabetical characters\n",
    "    \"\"\"\n",
    "    m = re.search('[a-zA-Z]', x)\n",
    "    return m is not None\n",
    "\n",
    "def str_best_match(s: str, strings):\n",
    "    \"\"\"\n",
    "    Find the best match of string `s` in the list of strings.\n",
    "    \"\"\"\n",
    "    assert isinstance(s, str) and isinstance(strings, list)\n",
    "    s = s.lower()\n",
    "    strings = [ss.lower() for ss in strings]\n",
    "    candidates = [ss for ss in strings if ss.find(s) >= 0 or s.find(ss) >= 0]\n",
    "    if len(candidates) == 0:\n",
    "        return None\n",
    "    match_score = [(fuzz.ratio(s, ss), ss) for ss in candidates]\n",
    "    best_match = sorted(match_score, key=lambda x: x[0])[-1]\n",
    "    idx = strings.index(best_match[1])\n",
    "    return idx"
   ]
  },
  {
   "cell_type": "markdown",
   "metadata": {},
   "source": [
    "## 🔗  Great Circle"
   ]
  },
  {
   "cell_type": "markdown",
   "metadata": {},
   "source": [
    "> A great circle is the intersection of the sphere and a plane that passes through the center point of the sphere. [Wikipedia](https://en.wikipedia.org/wiki/Great_circle)"
   ]
  },
  {
   "cell_type": "markdown",
   "metadata": {},
   "source": [
    "Basically, a great circle shows the shortest path between 2 locations, knowing that our planet is a sphere. This path is not a straight line but an arc, which gives a much better appearance to the map.\n",
    "\n",
    "Let's add a connection between London and New York. This is quite straightforward with `Basemap` thanks to the `drawgreatcircle()` function."
   ]
  },
  {
   "cell_type": "markdown",
   "metadata": {},
   "source": [
    "## Alliance Map Class"
   ]
  },
  {
   "cell_type": "markdown",
   "metadata": {},
   "source": [
    "Create a map class that is a subclass of `Basemap`. Add some helper functions."
   ]
  },
  {
   "cell_type": "code",
   "execution_count": 4,
   "metadata": {},
   "outputs": [],
   "source": [
    "\n",
    "class MyBasemap(Basemap):\n",
    "    def __init__(self, *args, **kwargs):\n",
    "        super().__init__()\n",
    "        # load country attributes such as longitude, latitude, and BGN names\n",
    "        self.countries_data = pd.read_csv(\"./version4.1_csv/cow.txt\", sep=\";\", skiprows=28)\n",
    "        self.countries_data.BGN_proper = self.countries_data.BGN_proper.apply(lambda x: x.strip(\" \"))\n",
    "        self.countries_data.BGN_name = self.countries_data.BGN_name.apply(lambda x: x.strip(\" \"))\n",
    "        self.BGN_name = self.countries_data.BGN_name.tolist()\n",
    "        self.BGN_proper = self.countries_data.BGN_proper.tolist()\n",
    "        self.countries_name = self.BGN_name + self.BGN_proper\n",
    "        self.decide_countries_no_map()\n",
    "        self.labelled_countries = set()\n",
    "\n",
    "    def decide_countries_no_map(self, d: int=1, min_size: float=1e4):\n",
    "        \"\"\"\n",
    "        Decide which countries can be labelled on the map. \n",
    "        Only label those with a land area larger than `min_size`.\n",
    "        :param d: the distance to the edge of the map, if a country is too close to the edge, not to label it \n",
    "        \"\"\"\n",
    "        self.countries_on_map = set()\n",
    "        data = self.countries_data\n",
    "        data = data[\n",
    "            (data.latitude > self.llcrnrlat+d) & \n",
    "            (data.latitude < self.urcrnrlat-d) & \n",
    "            (data.longitude > self.llcrnrlon+d) & \n",
    "            (data.longitude < self.urcrnrlon-d)\n",
    "        ]\n",
    "        for ix, country in data.iterrows():\n",
    "            if has_char(country.BGN_proper.lower()) and is_float(country.land_total) and float(country.land_total) >= min_size:\n",
    "                self.countries_on_map.add(country.BGN_proper.lower())\n",
    "                self.countries_on_map.add(country.BGN_name.lower())\n",
    "                # print(country.BGN_proper.lower(), pos)\n",
    "        self.countries_on_map = list(self.countries_on_map)\n",
    "\n",
    "    def best_match_country(self, country: str):\n",
    "        \"\"\"\n",
    "        Find the best match of `country` in self.countries_name\n",
    "        \"\"\"\n",
    "        match_idx = str_best_match(country.lower(), self.countries_name)\n",
    "        if match_idx is None:\n",
    "            return\n",
    "        name = self.countries_name[match_idx]\n",
    "        if match_idx >= len(self.BGN_name):\n",
    "            match_idx -= len(self.BGN_name)\n",
    "        return match_idx, name\n",
    "\n",
    "    def print_countries(self, country: str, max_len: int=30, fontsize: int=10):\n",
    "        \"\"\"\n",
    "        Label `country` with their name on the map. Only print \n",
    "        the first `max_len` char of the country names.\n",
    "        \"\"\"\n",
    "        res = self.best_match_country(country)\n",
    "        if res is None:\n",
    "            return\n",
    "        match_idx, name = res\n",
    "        country_row = self.countries_data.iloc[match_idx]\n",
    "        if country_row.BGN_name in self.labelled_countries:\n",
    "            return\n",
    "        self.labelled_countries.add(country_row.BGN_name)\n",
    "        pos = self(country_row.longitude, country_row.latitude)\n",
    "        pos_text = self(country_row.longitude, country_row.latitude + 2)\n",
    "        # plt.text(*pos, s=country[:max_len], fontsize=fontsize)\n",
    "        plt.annotate(\n",
    "            country[:max_len], \n",
    "            xy=pos_text, \n",
    "            verticalalignment='center', \n",
    "            horizontalalignment='center', \n",
    "            fontsize=fontsize\n",
    "        )\n",
    "        plt.plot([pos[0]], [pos[1]], marker=\"o\", markersize=3, markeredgecolor=\"blue\", markerfacecolor=\"blue\")\n",
    "\n",
    "    def get_country_row(self, country):\n",
    "        \"\"\"\n",
    "        Query the attributes of `country`\n",
    "        \"\"\"\n",
    "        ct = country.lower()\n",
    "        match_i = str_best_match(ct, self.countries_on_map)\n",
    "        if match_i is None:\n",
    "            return None\n",
    "        match_idx, name = self.best_match_country(ct)\n",
    "        if name.lower() != self.countries_on_map[match_i]:\n",
    "            return\n",
    "        row = self.countries_data.iloc[match_idx]\n",
    "        # print(ct, row)\n",
    "        return row\n",
    "\n",
    "    def connect_countries(self, c0: str, c1: str):\n",
    "        \"\"\"\n",
    "        Draw a great circle between the two countries `c0` and `c1` if \n",
    "        they are labelled on the map and their positions (latitude, longitude) can be found.\n",
    "        \"\"\"\n",
    "        r0 = self.get_country_row(c0)\n",
    "        r1 = self.get_country_row(c1)\n",
    "        if r0 is None or r1 is None:\n",
    "            return\n",
    "        self.print_countries(c0)\n",
    "        self.print_countries(c1)\n",
    "        coord0 = self(r0.longitude.item(), r0.latitude.item())\n",
    "        coord1 = self(r1.longitude.item(), r1.latitude.item())\n",
    "        coord = coord0 + coord1\n",
    "        # print(r0.BGN_name, r1.BGN_name, coord)\n",
    "        if (abs(coord[0]) + abs(coord[2])) > 170 and abs(coord[0] + coord[2]) < 80:  # abs(coord[0] - coord[2]) > 180 and\n",
    "            # the great circle in this case is drawn across the edges of the map,\n",
    "            # so we use straight line to connect\n",
    "            plt.plot(coord[0::2], coord[1::2], '-', linewidth=1, color='#69b3a2')\n",
    "        else:\n",
    "            self.drawgreatcircle(*coord, linewidth=1, color='#69b3a2')"
   ]
  },
  {
   "cell_type": "code",
   "execution_count": 5,
   "metadata": {},
   "outputs": [],
   "source": [
    "def get_year_map(m, year, key=\"dyad_st_year\"):\n",
    "    \"\"\"\n",
    "    Draw a great circle on the Basemap `m` between the \n",
    "    countries that established alliance in `year`.\n",
    "    \"\"\"\n",
    "    year_data = alliance.loc[alliance[key] == year]\n",
    "    for it, (idx, row) in enumerate(year_data.iterrows()):\n",
    "        # print(row.state_name1, row.state_name2)\n",
    "        m.connect_countries(row.state_name1, row.state_name2)"
   ]
  },
  {
   "cell_type": "code",
   "execution_count": 6,
   "metadata": {},
   "outputs": [],
   "source": [
    "def plot_alliance(year, show_fig=True, save_fig=False):\n",
    "    # Background map\n",
    "    plt.figure()\n",
    "    m=MyBasemap(llcrnrlon=-179, llcrnrlat=-60, urcrnrlon=179, urcrnrlat=70,  projection='merc')\n",
    "    m.drawmapboundary(fill_color='white', linewidth=0)\n",
    "    m.drawcoastlines(linewidth=0.1)\n",
    "    m.drawcountries(linewidth=0.2)\n",
    "    m.fillcontinents(color='#f2f2f2', alpha=0.7)\n",
    "    m.drawcoastlines(linewidth=0.1, color=\"white\")\n",
    "\n",
    "#     m.connect_countries(\"United States\", \"Canada\")\n",
    "#     m.connect_countries('United States', 'Dominican Republic')\n",
    "#     m.connect_countries('Canada', 'Japan')\n",
    "#     m.connect_countries('Canada', 'North Korea')\n",
    "    get_year_map(m, year)\n",
    "    plt.title(f\"New alliances established in {year}\")\n",
    "    plt.tight_layout()\n",
    "    if save_fig:\n",
    "        plt.savefig(f\"./img/{year}.png\")\n",
    "    if not show_fig:\n",
    "        plt.close('all')"
   ]
  },
  {
   "cell_type": "code",
   "execution_count": 7,
   "metadata": {
    "scrolled": false
   },
   "outputs": [],
   "source": [
    "for year in range(1816, 2013):\n",
    "    plot_alliance(year, False, True)\n",
    "# plot_alliance(1999)"
   ]
  },
  {
   "cell_type": "code",
   "execution_count": null,
   "metadata": {},
   "outputs": [],
   "source": []
  }
 ],
 "metadata": {
  "chartType": "connection",
  "description": "A <a href='https://www.python-graph-gallery.com/connection-map'>connection map</a> shows links between locations on a map. This post explains how to use <code>python</code> and the <code>basemap</code> library to show those links with great circles.",
  "family": "map",
  "kernelspec": {
   "display_name": "Python 3 (ipykernel)",
   "language": "python",
   "name": "python3"
  },
  "keywords": "python, chart, plot, seaborn, matplotlib, basemap, connection, links, great circles",
  "language_info": {
   "codemirror_mode": {
    "name": "ipython",
    "version": 3
   },
   "file_extension": ".py",
   "mimetype": "text/x-python",
   "name": "python",
   "nbconvert_exporter": "python",
   "pygments_lexer": "ipython3",
   "version": "3.8.5"
  },
  "seoDescription": "How to build a connection map with Python and Basemap library.",
  "slug": "300-draw-a-connection-line",
  "title": "Connection map with Python and Basemap"
 },
 "nbformat": 4,
 "nbformat_minor": 4
}
